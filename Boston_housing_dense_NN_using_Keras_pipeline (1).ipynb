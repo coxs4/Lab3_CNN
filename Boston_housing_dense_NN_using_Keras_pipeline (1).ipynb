{
 "cells": [
  {
   "cell_type": "markdown",
   "metadata": {
    "id": "ILF1_PzO5HBl"
   },
   "source": [
    "## Predicting house prices\n",
    "\n",
    "The idea is borrowed from  Chollet (2017, p.85) [Git link](https://github.com/fchollet/deep-learning-with-python-notebooks/blob/master/3.7-predicting-house-prices.ipynb)\n",
    "\n",
    "Solves regression problem using scikit LinReg and a fully connected NN designed with Keras.\n",
    "\n",
    "See Chollet [Git link](https://github.com/fchollet/deep-learning-with-python-notebooks/blob/master/3.7-predicting-house-prices.ipynb) for K-fold validation.\n",
    "\n",
    "Given datappoints about the housing in Boston in mid 70's, predict sale price"
   ]
  },
  {
   "cell_type": "code",
   "execution_count": 23,
   "metadata": {
    "id": "g0vsOdIG-7SP"
   },
   "outputs": [],
   "source": [
    "import numpy as np\n",
    "import pandas as pd\n",
    "import matplotlib.pyplot as plt\n",
    "import tensorflow.keras as keras"
   ]
  },
  {
   "cell_type": "code",
   "execution_count": 24,
   "metadata": {
    "colab": {
     "base_uri": "https://localhost:8080/",
     "height": 52
    },
    "id": "NSG_5pNv4fPW",
    "outputId": "d23fd901-3673-4b6e-d197-94986f221e8b"
   },
   "outputs": [],
   "source": [
    "#%tensorflow_version 1.x\n",
    "from keras.datasets import boston_housing"
   ]
  },
  {
   "cell_type": "code",
   "execution_count": 25,
   "metadata": {
    "colab": {
     "base_uri": "https://localhost:8080/",
     "height": 923
    },
    "id": "yfD5jxeH9CfP",
    "outputId": "010f55b6-3b63-4546-951c-5c0c3e928df6"
   },
   "outputs": [
    {
     "name": "stdout",
     "output_type": "stream",
     "text": [
      ".. _boston_dataset:\n",
      "\n",
      "Boston house prices dataset\n",
      "---------------------------\n",
      "\n",
      "**Data Set Characteristics:**  \n",
      "\n",
      "    :Number of Instances: 506 \n",
      "\n",
      "    :Number of Attributes: 13 numeric/categorical predictive. Median Value (attribute 14) is usually the target.\n",
      "\n",
      "    :Attribute Information (in order):\n",
      "        - CRIM     per capita crime rate by town\n",
      "        - ZN       proportion of residential land zoned for lots over 25,000 sq.ft.\n",
      "        - INDUS    proportion of non-retail business acres per town\n",
      "        - CHAS     Charles River dummy variable (= 1 if tract bounds river; 0 otherwise)\n",
      "        - NOX      nitric oxides concentration (parts per 10 million)\n",
      "        - RM       average number of rooms per dwelling\n",
      "        - AGE      proportion of owner-occupied units built prior to 1940\n",
      "        - DIS      weighted distances to five Boston employment centres\n",
      "        - RAD      index of accessibility to radial highways\n",
      "        - TAX      full-value property-tax rate per $10,000\n",
      "        - PTRATIO  pupil-teacher ratio by town\n",
      "        - B        1000(Bk - 0.63)^2 where Bk is the proportion of blacks by town\n",
      "        - LSTAT    % lower status of the population\n",
      "        - MEDV     Median value of owner-occupied homes in $1000's\n",
      "\n",
      "    :Missing Attribute Values: None\n",
      "\n",
      "    :Creator: Harrison, D. and Rubinfeld, D.L.\n",
      "\n",
      "This is a copy of UCI ML housing dataset.\n",
      "https://archive.ics.uci.edu/ml/machine-learning-databases/housing/\n",
      "\n",
      "\n",
      "This dataset was taken from the StatLib library which is maintained at Carnegie Mellon University.\n",
      "\n",
      "The Boston house-price data of Harrison, D. and Rubinfeld, D.L. 'Hedonic\n",
      "prices and the demand for clean air', J. Environ. Economics & Management,\n",
      "vol.5, 81-102, 1978.   Used in Belsley, Kuh & Welsch, 'Regression diagnostics\n",
      "...', Wiley, 1980.   N.B. Various transformations are used in the table on\n",
      "pages 244-261 of the latter.\n",
      "\n",
      "The Boston house-price data has been used in many machine learning papers that address regression\n",
      "problems.   \n",
      "     \n",
      ".. topic:: References\n",
      "\n",
      "   - Belsley, Kuh & Welsch, 'Regression diagnostics: Identifying Influential Data and Sources of Collinearity', Wiley, 1980. 244-261.\n",
      "   - Quinlan,R. (1993). Combining Instance-Based and Model-Based Learning. In Proceedings on the Tenth International Conference of Machine Learning, 236-243, University of Massachusetts, Amherst. Morgan Kaufmann.\n",
      "\n"
     ]
    }
   ],
   "source": [
    "#scikit version has descriptions:\n",
    "from sklearn.datasets import load_boston\n",
    "boston = load_boston()\n",
    "print(boston.DESCR)"
   ]
  },
  {
   "cell_type": "code",
   "execution_count": 26,
   "metadata": {
    "colab": {
     "base_uri": "https://localhost:8080/",
     "height": 86
    },
    "id": "WRifmFXJ9wIj",
    "outputId": "fd7f5326-9377-439e-a3e8-56c1424ae1d9"
   },
   "outputs": [
    {
     "name": "stdout",
     "output_type": "stream",
     "text": [
      "(506, 13)\n",
      "['CRIM' 'ZN' 'INDUS' 'CHAS' 'NOX' 'RM' 'AGE' 'DIS' 'RAD' 'TAX' 'PTRATIO'\n",
      " 'B' 'LSTAT']\n"
     ]
    },
    {
     "data": {
      "text/plain": [
       "(506,)"
      ]
     },
     "execution_count": 26,
     "metadata": {},
     "output_type": "execute_result"
    }
   ],
   "source": [
    "#Format: Dictionary \n",
    "# print(boston.keys())\n",
    "#Size it up\n",
    "print(boston.data.shape)\n",
    "#What are the 13 features?\n",
    "print(boston.feature_names)\n",
    "\n",
    "boston.target.shape"
   ]
  },
  {
   "cell_type": "code",
   "execution_count": 27,
   "metadata": {
    "colab": {
     "base_uri": "https://localhost:8080/",
     "height": 320
    },
    "id": "OqoSiTxN-iUf",
    "outputId": "b1bd1225-5e7a-40ca-fed9-b6aa6261c5df"
   },
   "outputs": [
    {
     "data": {
      "text/html": [
       "<div>\n",
       "<style scoped>\n",
       "    .dataframe tbody tr th:only-of-type {\n",
       "        vertical-align: middle;\n",
       "    }\n",
       "\n",
       "    .dataframe tbody tr th {\n",
       "        vertical-align: top;\n",
       "    }\n",
       "\n",
       "    .dataframe thead th {\n",
       "        text-align: right;\n",
       "    }\n",
       "</style>\n",
       "<table border=\"1\" class=\"dataframe\">\n",
       "  <thead>\n",
       "    <tr style=\"text-align: right;\">\n",
       "      <th></th>\n",
       "      <th>0</th>\n",
       "      <th>1</th>\n",
       "      <th>2</th>\n",
       "      <th>3</th>\n",
       "      <th>4</th>\n",
       "      <th>5</th>\n",
       "      <th>6</th>\n",
       "      <th>7</th>\n",
       "      <th>8</th>\n",
       "      <th>9</th>\n",
       "      <th>10</th>\n",
       "      <th>11</th>\n",
       "      <th>12</th>\n",
       "    </tr>\n",
       "  </thead>\n",
       "  <tbody>\n",
       "    <tr>\n",
       "      <th>count</th>\n",
       "      <td>506.000000</td>\n",
       "      <td>506.000000</td>\n",
       "      <td>506.000000</td>\n",
       "      <td>506.000000</td>\n",
       "      <td>506.000000</td>\n",
       "      <td>506.000000</td>\n",
       "      <td>506.000000</td>\n",
       "      <td>506.000000</td>\n",
       "      <td>506.000000</td>\n",
       "      <td>506.000000</td>\n",
       "      <td>506.000000</td>\n",
       "      <td>506.000000</td>\n",
       "      <td>506.000000</td>\n",
       "    </tr>\n",
       "    <tr>\n",
       "      <th>mean</th>\n",
       "      <td>3.613524</td>\n",
       "      <td>11.363636</td>\n",
       "      <td>11.136779</td>\n",
       "      <td>0.069170</td>\n",
       "      <td>0.554695</td>\n",
       "      <td>6.284634</td>\n",
       "      <td>68.574901</td>\n",
       "      <td>3.795043</td>\n",
       "      <td>9.549407</td>\n",
       "      <td>408.237154</td>\n",
       "      <td>18.455534</td>\n",
       "      <td>356.674032</td>\n",
       "      <td>12.653063</td>\n",
       "    </tr>\n",
       "    <tr>\n",
       "      <th>std</th>\n",
       "      <td>8.601545</td>\n",
       "      <td>23.322453</td>\n",
       "      <td>6.860353</td>\n",
       "      <td>0.253994</td>\n",
       "      <td>0.115878</td>\n",
       "      <td>0.702617</td>\n",
       "      <td>28.148861</td>\n",
       "      <td>2.105710</td>\n",
       "      <td>8.707259</td>\n",
       "      <td>168.537116</td>\n",
       "      <td>2.164946</td>\n",
       "      <td>91.294864</td>\n",
       "      <td>7.141062</td>\n",
       "    </tr>\n",
       "    <tr>\n",
       "      <th>min</th>\n",
       "      <td>0.006320</td>\n",
       "      <td>0.000000</td>\n",
       "      <td>0.460000</td>\n",
       "      <td>0.000000</td>\n",
       "      <td>0.385000</td>\n",
       "      <td>3.561000</td>\n",
       "      <td>2.900000</td>\n",
       "      <td>1.129600</td>\n",
       "      <td>1.000000</td>\n",
       "      <td>187.000000</td>\n",
       "      <td>12.600000</td>\n",
       "      <td>0.320000</td>\n",
       "      <td>1.730000</td>\n",
       "    </tr>\n",
       "    <tr>\n",
       "      <th>25%</th>\n",
       "      <td>0.082045</td>\n",
       "      <td>0.000000</td>\n",
       "      <td>5.190000</td>\n",
       "      <td>0.000000</td>\n",
       "      <td>0.449000</td>\n",
       "      <td>5.885500</td>\n",
       "      <td>45.025000</td>\n",
       "      <td>2.100175</td>\n",
       "      <td>4.000000</td>\n",
       "      <td>279.000000</td>\n",
       "      <td>17.400000</td>\n",
       "      <td>375.377500</td>\n",
       "      <td>6.950000</td>\n",
       "    </tr>\n",
       "    <tr>\n",
       "      <th>50%</th>\n",
       "      <td>0.256510</td>\n",
       "      <td>0.000000</td>\n",
       "      <td>9.690000</td>\n",
       "      <td>0.000000</td>\n",
       "      <td>0.538000</td>\n",
       "      <td>6.208500</td>\n",
       "      <td>77.500000</td>\n",
       "      <td>3.207450</td>\n",
       "      <td>5.000000</td>\n",
       "      <td>330.000000</td>\n",
       "      <td>19.050000</td>\n",
       "      <td>391.440000</td>\n",
       "      <td>11.360000</td>\n",
       "    </tr>\n",
       "    <tr>\n",
       "      <th>75%</th>\n",
       "      <td>3.677083</td>\n",
       "      <td>12.500000</td>\n",
       "      <td>18.100000</td>\n",
       "      <td>0.000000</td>\n",
       "      <td>0.624000</td>\n",
       "      <td>6.623500</td>\n",
       "      <td>94.075000</td>\n",
       "      <td>5.188425</td>\n",
       "      <td>24.000000</td>\n",
       "      <td>666.000000</td>\n",
       "      <td>20.200000</td>\n",
       "      <td>396.225000</td>\n",
       "      <td>16.955000</td>\n",
       "    </tr>\n",
       "    <tr>\n",
       "      <th>max</th>\n",
       "      <td>88.976200</td>\n",
       "      <td>100.000000</td>\n",
       "      <td>27.740000</td>\n",
       "      <td>1.000000</td>\n",
       "      <td>0.871000</td>\n",
       "      <td>8.780000</td>\n",
       "      <td>100.000000</td>\n",
       "      <td>12.126500</td>\n",
       "      <td>24.000000</td>\n",
       "      <td>711.000000</td>\n",
       "      <td>22.000000</td>\n",
       "      <td>396.900000</td>\n",
       "      <td>37.970000</td>\n",
       "    </tr>\n",
       "  </tbody>\n",
       "</table>\n",
       "</div>"
      ],
      "text/plain": [
       "               0           1           2           3           4           5   \\\n",
       "count  506.000000  506.000000  506.000000  506.000000  506.000000  506.000000   \n",
       "mean     3.613524   11.363636   11.136779    0.069170    0.554695    6.284634   \n",
       "std      8.601545   23.322453    6.860353    0.253994    0.115878    0.702617   \n",
       "min      0.006320    0.000000    0.460000    0.000000    0.385000    3.561000   \n",
       "25%      0.082045    0.000000    5.190000    0.000000    0.449000    5.885500   \n",
       "50%      0.256510    0.000000    9.690000    0.000000    0.538000    6.208500   \n",
       "75%      3.677083   12.500000   18.100000    0.000000    0.624000    6.623500   \n",
       "max     88.976200  100.000000   27.740000    1.000000    0.871000    8.780000   \n",
       "\n",
       "               6           7           8           9           10          11  \\\n",
       "count  506.000000  506.000000  506.000000  506.000000  506.000000  506.000000   \n",
       "mean    68.574901    3.795043    9.549407  408.237154   18.455534  356.674032   \n",
       "std     28.148861    2.105710    8.707259  168.537116    2.164946   91.294864   \n",
       "min      2.900000    1.129600    1.000000  187.000000   12.600000    0.320000   \n",
       "25%     45.025000    2.100175    4.000000  279.000000   17.400000  375.377500   \n",
       "50%     77.500000    3.207450    5.000000  330.000000   19.050000  391.440000   \n",
       "75%     94.075000    5.188425   24.000000  666.000000   20.200000  396.225000   \n",
       "max    100.000000   12.126500   24.000000  711.000000   22.000000  396.900000   \n",
       "\n",
       "               12  \n",
       "count  506.000000  \n",
       "mean    12.653063  \n",
       "std      7.141062  \n",
       "min      1.730000  \n",
       "25%      6.950000  \n",
       "50%     11.360000  \n",
       "75%     16.955000  \n",
       "max     37.970000  "
      ]
     },
     "execution_count": 27,
     "metadata": {},
     "output_type": "execute_result"
    }
   ],
   "source": [
    "#info on the data.\n",
    "#pandas are pretty. \n",
    "df = pd.DataFrame(boston.data)\n",
    "df.describe()"
   ]
  },
  {
   "cell_type": "markdown",
   "metadata": {
    "id": "BXZJdDmgDVY0"
   },
   "source": [
    "## Normalize data\n",
    "\n",
    "0 mean and unit variance\n",
    "\n",
    "Note: we should technically use only the train data here. "
   ]
  },
  {
   "cell_type": "code",
   "execution_count": 28,
   "metadata": {
    "colab": {
     "base_uri": "https://localhost:8080/",
     "height": 338
    },
    "id": "t0azUGT-Ao-Z",
    "outputId": "ff8560b9-a1aa-44ee-b1c6-53d8f04f4b59"
   },
   "outputs": [
    {
     "name": "stdout",
     "output_type": "stream",
     "text": [
      "(506, 13) (506,)\n"
     ]
    },
    {
     "data": {
      "text/html": [
       "<div>\n",
       "<style scoped>\n",
       "    .dataframe tbody tr th:only-of-type {\n",
       "        vertical-align: middle;\n",
       "    }\n",
       "\n",
       "    .dataframe tbody tr th {\n",
       "        vertical-align: top;\n",
       "    }\n",
       "\n",
       "    .dataframe thead th {\n",
       "        text-align: right;\n",
       "    }\n",
       "</style>\n",
       "<table border=\"1\" class=\"dataframe\">\n",
       "  <thead>\n",
       "    <tr style=\"text-align: right;\">\n",
       "      <th></th>\n",
       "      <th>0</th>\n",
       "      <th>1</th>\n",
       "      <th>2</th>\n",
       "      <th>3</th>\n",
       "      <th>4</th>\n",
       "      <th>5</th>\n",
       "      <th>6</th>\n",
       "      <th>7</th>\n",
       "      <th>8</th>\n",
       "      <th>9</th>\n",
       "      <th>10</th>\n",
       "      <th>11</th>\n",
       "      <th>12</th>\n",
       "    </tr>\n",
       "  </thead>\n",
       "  <tbody>\n",
       "    <tr>\n",
       "      <th>count</th>\n",
       "      <td>5.060000e+02</td>\n",
       "      <td>5.060000e+02</td>\n",
       "      <td>5.060000e+02</td>\n",
       "      <td>5.060000e+02</td>\n",
       "      <td>5.060000e+02</td>\n",
       "      <td>5.060000e+02</td>\n",
       "      <td>5.060000e+02</td>\n",
       "      <td>5.060000e+02</td>\n",
       "      <td>506.000000</td>\n",
       "      <td>5.060000e+02</td>\n",
       "      <td>5.060000e+02</td>\n",
       "      <td>5.060000e+02</td>\n",
       "      <td>5.060000e+02</td>\n",
       "    </tr>\n",
       "    <tr>\n",
       "      <th>mean</th>\n",
       "      <td>-5.616939e-17</td>\n",
       "      <td>-3.510587e-18</td>\n",
       "      <td>-3.117401e-15</td>\n",
       "      <td>-2.808469e-17</td>\n",
       "      <td>2.724215e-15</td>\n",
       "      <td>-1.147260e-14</td>\n",
       "      <td>-1.151472e-15</td>\n",
       "      <td>7.582867e-16</td>\n",
       "      <td>0.000000</td>\n",
       "      <td>5.616939e-17</td>\n",
       "      <td>-1.022283e-14</td>\n",
       "      <td>8.607958e-15</td>\n",
       "      <td>-5.897786e-16</td>\n",
       "    </tr>\n",
       "    <tr>\n",
       "      <th>std</th>\n",
       "      <td>1.000990e+00</td>\n",
       "      <td>1.000990e+00</td>\n",
       "      <td>1.000990e+00</td>\n",
       "      <td>1.000990e+00</td>\n",
       "      <td>1.000990e+00</td>\n",
       "      <td>1.000990e+00</td>\n",
       "      <td>1.000990e+00</td>\n",
       "      <td>1.000990e+00</td>\n",
       "      <td>1.000990</td>\n",
       "      <td>1.000990e+00</td>\n",
       "      <td>1.000990e+00</td>\n",
       "      <td>1.000990e+00</td>\n",
       "      <td>1.000990e+00</td>\n",
       "    </tr>\n",
       "    <tr>\n",
       "      <th>min</th>\n",
       "      <td>-4.197819e-01</td>\n",
       "      <td>-4.877224e-01</td>\n",
       "      <td>-1.557842e+00</td>\n",
       "      <td>-2.725986e-01</td>\n",
       "      <td>-1.465882e+00</td>\n",
       "      <td>-3.880249e+00</td>\n",
       "      <td>-2.335437e+00</td>\n",
       "      <td>-1.267069e+00</td>\n",
       "      <td>-0.982843</td>\n",
       "      <td>-1.313990e+00</td>\n",
       "      <td>-2.707379e+00</td>\n",
       "      <td>-3.907193e+00</td>\n",
       "      <td>-1.531127e+00</td>\n",
       "    </tr>\n",
       "    <tr>\n",
       "      <th>25%</th>\n",
       "      <td>-4.109696e-01</td>\n",
       "      <td>-4.877224e-01</td>\n",
       "      <td>-8.676906e-01</td>\n",
       "      <td>-2.725986e-01</td>\n",
       "      <td>-9.130288e-01</td>\n",
       "      <td>-5.686303e-01</td>\n",
       "      <td>-8.374480e-01</td>\n",
       "      <td>-8.056878e-01</td>\n",
       "      <td>-0.637962</td>\n",
       "      <td>-7.675760e-01</td>\n",
       "      <td>-4.880391e-01</td>\n",
       "      <td>2.050715e-01</td>\n",
       "      <td>-7.994200e-01</td>\n",
       "    </tr>\n",
       "    <tr>\n",
       "      <th>50%</th>\n",
       "      <td>-3.906665e-01</td>\n",
       "      <td>-4.877224e-01</td>\n",
       "      <td>-2.110985e-01</td>\n",
       "      <td>-2.725986e-01</td>\n",
       "      <td>-1.442174e-01</td>\n",
       "      <td>-1.084655e-01</td>\n",
       "      <td>3.173816e-01</td>\n",
       "      <td>-2.793234e-01</td>\n",
       "      <td>-0.523001</td>\n",
       "      <td>-4.646726e-01</td>\n",
       "      <td>2.748590e-01</td>\n",
       "      <td>3.811865e-01</td>\n",
       "      <td>-1.812536e-01</td>\n",
       "    </tr>\n",
       "    <tr>\n",
       "      <th>75%</th>\n",
       "      <td>7.396560e-03</td>\n",
       "      <td>4.877224e-02</td>\n",
       "      <td>1.015999e+00</td>\n",
       "      <td>-2.725986e-01</td>\n",
       "      <td>5.986790e-01</td>\n",
       "      <td>4.827678e-01</td>\n",
       "      <td>9.067981e-01</td>\n",
       "      <td>6.623709e-01</td>\n",
       "      <td>1.661245</td>\n",
       "      <td>1.530926e+00</td>\n",
       "      <td>8.065758e-01</td>\n",
       "      <td>4.336510e-01</td>\n",
       "      <td>6.030188e-01</td>\n",
       "    </tr>\n",
       "    <tr>\n",
       "      <th>max</th>\n",
       "      <td>9.933931e+00</td>\n",
       "      <td>3.804234e+00</td>\n",
       "      <td>2.422565e+00</td>\n",
       "      <td>3.668398e+00</td>\n",
       "      <td>2.732346e+00</td>\n",
       "      <td>3.555044e+00</td>\n",
       "      <td>1.117494e+00</td>\n",
       "      <td>3.960518e+00</td>\n",
       "      <td>1.661245</td>\n",
       "      <td>1.798194e+00</td>\n",
       "      <td>1.638828e+00</td>\n",
       "      <td>4.410519e-01</td>\n",
       "      <td>3.548771e+00</td>\n",
       "    </tr>\n",
       "  </tbody>\n",
       "</table>\n",
       "</div>"
      ],
      "text/plain": [
       "                 0             1             2             3             4   \\\n",
       "count  5.060000e+02  5.060000e+02  5.060000e+02  5.060000e+02  5.060000e+02   \n",
       "mean  -5.616939e-17 -3.510587e-18 -3.117401e-15 -2.808469e-17  2.724215e-15   \n",
       "std    1.000990e+00  1.000990e+00  1.000990e+00  1.000990e+00  1.000990e+00   \n",
       "min   -4.197819e-01 -4.877224e-01 -1.557842e+00 -2.725986e-01 -1.465882e+00   \n",
       "25%   -4.109696e-01 -4.877224e-01 -8.676906e-01 -2.725986e-01 -9.130288e-01   \n",
       "50%   -3.906665e-01 -4.877224e-01 -2.110985e-01 -2.725986e-01 -1.442174e-01   \n",
       "75%    7.396560e-03  4.877224e-02  1.015999e+00 -2.725986e-01  5.986790e-01   \n",
       "max    9.933931e+00  3.804234e+00  2.422565e+00  3.668398e+00  2.732346e+00   \n",
       "\n",
       "                 5             6             7           8             9   \\\n",
       "count  5.060000e+02  5.060000e+02  5.060000e+02  506.000000  5.060000e+02   \n",
       "mean  -1.147260e-14 -1.151472e-15  7.582867e-16    0.000000  5.616939e-17   \n",
       "std    1.000990e+00  1.000990e+00  1.000990e+00    1.000990  1.000990e+00   \n",
       "min   -3.880249e+00 -2.335437e+00 -1.267069e+00   -0.982843 -1.313990e+00   \n",
       "25%   -5.686303e-01 -8.374480e-01 -8.056878e-01   -0.637962 -7.675760e-01   \n",
       "50%   -1.084655e-01  3.173816e-01 -2.793234e-01   -0.523001 -4.646726e-01   \n",
       "75%    4.827678e-01  9.067981e-01  6.623709e-01    1.661245  1.530926e+00   \n",
       "max    3.555044e+00  1.117494e+00  3.960518e+00    1.661245  1.798194e+00   \n",
       "\n",
       "                 10            11            12  \n",
       "count  5.060000e+02  5.060000e+02  5.060000e+02  \n",
       "mean  -1.022283e-14  8.607958e-15 -5.897786e-16  \n",
       "std    1.000990e+00  1.000990e+00  1.000990e+00  \n",
       "min   -2.707379e+00 -3.907193e+00 -1.531127e+00  \n",
       "25%   -4.880391e-01  2.050715e-01 -7.994200e-01  \n",
       "50%    2.748590e-01  3.811865e-01 -1.812536e-01  \n",
       "75%    8.065758e-01  4.336510e-01  6.030188e-01  \n",
       "max    1.638828e+00  4.410519e-01  3.548771e+00  "
      ]
     },
     "execution_count": 28,
     "metadata": {},
     "output_type": "execute_result"
    }
   ],
   "source": [
    "X = boston.data\n",
    "y = boston.target\n",
    "print(X.shape, y.shape)\n",
    "\n",
    "X -= X.mean(0)\n",
    "X /= X.std(0)\n",
    "\n",
    "df = pd.DataFrame(X)\n",
    "df.describe()\n"
   ]
  },
  {
   "cell_type": "code",
   "execution_count": 29,
   "metadata": {
    "colab": {
     "base_uri": "https://localhost:8080/",
     "height": 34
    },
    "id": "suCyXHYXDkrI",
    "outputId": "bb3fe6a3-15b9-4974-ce1a-73cb5bd67dee"
   },
   "outputs": [
    {
     "name": "stdout",
     "output_type": "stream",
     "text": [
      "(404, 13) (404,)\n"
     ]
    }
   ],
   "source": [
    "from sklearn.model_selection import train_test_split\n",
    "Xtrain, Xtest, ytrain, ytest = train_test_split(X, y, random_state=42, train_size=0.8)\n",
    "\n",
    "print(Xtrain.shape, ytrain.shape)"
   ]
  },
  {
   "cell_type": "code",
   "execution_count": 30,
   "metadata": {
    "colab": {
     "base_uri": "https://localhost:8080/",
     "height": 225
    },
    "id": "lCaCe_6B951p",
    "outputId": "7a836544-2dab-432a-80b9-6a4d3dc89be3"
   },
   "outputs": [
    {
     "name": "stdout",
     "output_type": "stream",
     "text": [
      "Attributes:\n",
      " [[ 1.32780421 -0.48772236  1.01599907 -0.27259857  0.51229565 -1.39706929\n",
      "   1.02148094 -0.80543822  1.66124525  1.53092646  0.80657583 -0.07887794\n",
      "   1.7181012 ]\n",
      " [-0.34750602 -0.48772236 -0.43725801 -0.27259857 -0.14421743 -0.64200019\n",
      "  -0.42939039  0.33444943 -0.6379618  -0.6012761   1.17646583  0.42701755\n",
      "  -0.5863558 ]\n",
      " [-0.41648392  1.01446252 -0.74074945 -0.27259857 -1.00891427 -0.36134243\n",
      "  -1.61000138  1.35273767 -0.98284286 -0.61909395 -0.71922039  0.06113692\n",
      "  -0.67606702]] \n",
      " Prices:\n",
      " [12.  19.9 19.4]\n"
     ]
    }
   ],
   "source": [
    "print(\"Attributes:\\n\", Xtrain[:3], \"\\n Prices:\\n\", ytrain[:3])"
   ]
  },
  {
   "cell_type": "markdown",
   "metadata": {
    "id": "X-LgGXITCler"
   },
   "source": [
    "## Linear Regression"
   ]
  },
  {
   "cell_type": "markdown",
   "metadata": {
    "id": "yclxsvq9rWER"
   },
   "source": [
    "[Diabetes dataset Linear Regression Model example](https://scikit-learn.org/stable/auto_examples/linear_model/plot_ols.html)"
   ]
  },
  {
   "cell_type": "code",
   "execution_count": 33,
   "metadata": {
    "id": "KLRplo6rAhxz"
   },
   "outputs": [],
   "source": [
    "#Linear Regression\n",
    "\n",
    "from sklearn.linear_model import LinearRegression\n",
    "from sklearn.metrics import mean_squared_error, mean_absolute_error\n",
    "\n",
    "#SciKit Lin Reg using the train/test split:\n",
    "#1. Create a model\n",
    "#2. Train\n",
    "#3. Predict\n",
    "\n",
    "#ME\n",
    "model = LinearRegression(fit_intercept=True)\n",
    "model.fit(Xtrain, ytrain)\n",
    "y_model = model.predict(Xtest)\n"
   ]
  },
  {
   "cell_type": "code",
   "execution_count": 36,
   "metadata": {
    "colab": {
     "base_uri": "https://localhost:8080/",
     "height": 330
    },
    "id": "nSZShaxmAg-2",
    "outputId": "18970c14-4758-422d-8ad4-44f6c0d95c7d"
   },
   "outputs": [
    {
     "name": "stdout",
     "output_type": "stream",
     "text": [
      "MSE Linear Regression: 24.29\n",
      "MAE Linear Regression: 3.19\n"
     ]
    },
    {
     "data": {
      "text/plain": [
       "Text(0.5, 1.0, 'Boston Housing True vs Predicted prices')"
      ]
     },
     "execution_count": 36,
     "metadata": {},
     "output_type": "execute_result"
    },
    {
     "data": {
      "image/png": "[encoded data removed]",
      "text/plain": [
       "<Figure size 432x288 with 1 Axes>"
      ]
     },
     "metadata": {
      "needs_background": "light"
     },
     "output_type": "display_data"
    }
   ],
   "source": [
    "#Calculate error and plot\n",
    "mse = mean_squared_error(ytest, y_model)\n",
    "mae = mean_absolute_error(ytest, y_model)\n",
    "print(\"MSE Linear Regression: %.2f\" % mse)\n",
    "print(\"MAE Linear Regression: %.2f\" % mae)\n",
    "\n",
    "\n",
    "#compare labels\n",
    "plt.scatter(ytest, y_model)\n",
    "plt.xlabel(\"Truth\")\n",
    "plt.ylabel(\"Predicted\")\n",
    "plt.title(\"Boston Housing True vs Predicted prices\")"
   ]
  },
  {
   "cell_type": "markdown",
   "metadata": {
    "id": "uNVBeDjTOruY"
   },
   "source": [
    "### Solution\n",
    "\n",
    "What did the model learn?"
   ]
  },
  {
   "cell_type": "code",
   "execution_count": 37,
   "metadata": {
    "colab": {
     "base_uri": "https://localhost:8080/",
     "height": 86
    },
    "id": "FQhMSuiMDy6n",
    "outputId": "ef36e979-b336-4766-a710-02e2c9a7be2a"
   },
   "outputs": [
    {
     "name": "stdout",
     "output_type": "stream",
     "text": [
      "Model intercept: 22.485268239316913\n",
      "Model slopes:     [-0.97149423  0.70155562  0.27675212  0.70653152 -1.99143043  3.11571836\n",
      " -0.17706021 -3.04577065  2.28278471 -1.79260468 -1.97995351  1.12649864\n",
      " -3.62814937]\n"
     ]
    }
   ],
   "source": [
    "# Model weights:\n",
    "print(\"Model intercept:\", model.intercept_)\n",
    "print(\"Model slopes:    \", model.coef_)"
   ]
  },
  {
   "cell_type": "markdown",
   "metadata": {
    "id": "IzPnc2yobWQT"
   },
   "source": [
    "### Bonus\n",
    "\n",
    "Add poly features via a pipeline\n",
    "\n",
    "What is a good degree for this model?\n",
    "\n",
    "[make_pipeline documentation](https://scikit-learn.org/stable/modules/generated/sklearn.pipeline.make_pipeline.html)"
   ]
  },
  {
   "cell_type": "code",
   "execution_count": 12,
   "metadata": {
    "id": "oepn3GpzbeNe"
   },
   "outputs": [],
   "source": [
    "from sklearn.pipeline import make_pipeline\n",
    "from sklearn.preprocessing import PolynomialFeatures\n",
    "#ME\n",
    "model = make_pipeline(PolynomialFeatures(2), LinearRegression(fit_intercept=True))\n"
   ]
  },
  {
   "cell_type": "code",
   "execution_count": 13,
   "metadata": {
    "colab": {
     "base_uri": "https://localhost:8080/",
     "height": 330
    },
    "id": "9TMwtsffcJ4a",
    "outputId": "8cee239e-a688-4753-95d8-b07824fc1ef9"
   },
   "outputs": [
    {
     "name": "stdout",
     "output_type": "stream",
     "text": [
      "MSE Linear Regression: 14.25\n"
     ]
    },
    {
     "data": {
      "text/plain": [
       "Text(0.5, 1.0, 'Boston Housing True vs Predicted prices')"
      ]
     },
     "execution_count": 13,
     "metadata": {},
     "output_type": "execute_result"
    },
    {
     "data": {
      "image/png": "[encoded data removed]",
      "text/plain": [
       "<Figure size 432x288 with 1 Axes>"
      ]
     },
     "metadata": {
      "needs_background": "light"
     },
     "output_type": "display_data"
    }
   ],
   "source": [
    "#train and evaluate \n",
    "\n",
    "model.fit(Xtrain, ytrain)\n",
    "y_model = model.predict(Xtest)\n",
    "\n",
    "#Calculate error and plot\n",
    "mse = mean_squared_error(ytest, y_model)\n",
    "print(\"MSE Linear Regression: %.2f\" % mse)\n",
    "\n",
    "#compare labels\n",
    "plt.scatter(ytest, y_model)\n",
    "plt.xlabel(\"Truth\")\n",
    "plt.ylabel(\"Predicted\")\n",
    "plt.title(\"Boston Housing True vs Predicted prices\")"
   ]
  },
  {
   "cell_type": "markdown",
   "metadata": {
    "id": "6FO3a_51DzwV"
   },
   "source": [
    "## Dense NN using Keras"
   ]
  },
  {
   "cell_type": "code",
   "execution_count": 48,
   "metadata": {
    "id": "f1LCwbe9Dy_x"
   },
   "outputs": [],
   "source": [
    "from keras import models\n",
    "from keras import layers\n",
    "\n",
    "from keras.models import Sequential\n",
    "from keras.layers import Dense\n",
    "from keras.wrappers.scikit_learn import KerasRegressor\n",
    "from sklearn.model_selection import cross_val_score\n",
    "from sklearn.model_selection import KFold\n",
    "from sklearn.preprocessing import StandardScaler\n",
    "from sklearn.pipeline import Pipeline"
   ]
  },
  {
   "cell_type": "code",
   "execution_count": 49,
   "metadata": {
    "id": "rqvUJetHDzCO"
   },
   "outputs": [],
   "source": [
    "# define model\n",
    "\n",
    "#Dense is a fully-connected NN: activation(dot(input, kernel) + bias)\n",
    "\n",
    "def ex_model():\n",
    "\t# Add layers in given order\n",
    "  model = Sequential() \n",
    "  #Seq: indicates we want to define the NN layer by layer;\n",
    "  #each layer stacks on top of the next. \n",
    "  #comes with fit,eval,predict. (and corresponding generators)\n",
    "  \n",
    "  model.add(Dense(13, input_shape=(Xtrain.shape[1],), activation='relu'))\n",
    "  #we only need input size for the first layer. After that, it will auto-fill.\n",
    "\n",
    "  model.add(Dense(1))\n",
    "  #no actications for the output layer. used for predicting a continous value.\n",
    "  # Compile model\n",
    "  model.compile(loss='mean_squared_error', optimizer='adam', metrics=['mae'])\n",
    "  return model\n"
   ]
  },
  {
   "cell_type": "code",
   "execution_count": 50,
   "metadata": {
    "colab": {
     "base_uri": "https://localhost:8080/",
     "height": 677
    },
    "id": "EP-pDCdtG0cB",
    "outputId": "c8be49a7-8631-439c-c303-f32af8d6b520"
   },
   "outputs": [
    {
     "name": "stdout",
     "output_type": "stream",
     "text": [
      "Epoch 1/10\n",
      "404/404 [==============================] - 4s 9ms/step - loss: 521.2852 - mae: 20.9997\n",
      "Epoch 2/10\n",
      "404/404 [==============================] - 2s 4ms/step - loss: 278.1213 - mae: 14.2838\n",
      "Epoch 3/10\n",
      "404/404 [==============================] - 2s 4ms/step - loss: 118.5908 - mae: 8.1361\n",
      "Epoch 4/10\n",
      "404/404 [==============================] - 1s 4ms/step - loss: 66.2911 - mae: 5.8111\n",
      "Epoch 5/10\n",
      "404/404 [==============================] - 2s 4ms/step - loss: 46.1701 - mae: 4.7597\n",
      "Epoch 6/10\n",
      "404/404 [==============================] - 2s 4ms/step - loss: 37.2065 - mae: 4.3112\n",
      "Epoch 7/10\n",
      "404/404 [==============================] - 1s 4ms/step - loss: 32.7506 - mae: 4.0335\n",
      "Epoch 8/10\n",
      "404/404 [==============================] - 1s 4ms/step - loss: 30.1640 - mae: 3.9136\n",
      "Epoch 9/10\n",
      "404/404 [==============================] - 2s 4ms/step - loss: 28.0075 - mae: 3.8077\n",
      "Epoch 10/10\n",
      "404/404 [==============================] - 2s 4ms/step - loss: 26.3848 - mae: 3.7133\n",
      "MSE Keras example: 26.73\n"
     ]
    },
    {
     "data": {
      "text/plain": [
       "Text(0.5, 1.0, 'Boston Housing True vs Predicted prices')"
      ]
     },
     "execution_count": 50,
     "metadata": {},
     "output_type": "execute_result"
    },
    {
     "data": {
      "image/png": "[encoded data removed]",
      "text/plain": [
       "<Figure size 432x288 with 1 Axes>"
      ]
     },
     "metadata": {
      "needs_background": "light"
     },
     "output_type": "display_data"
    }
   ],
   "source": [
    "model = ex_model()\n",
    "ne = 10 #number of train loops\n",
    "model.fit(Xtrain, ytrain, epochs=ne, batch_size=1, verbose=1)\n",
    "#see performance on test data using trained model\n",
    "y_nn = model.predict(Xtest)\n",
    "\n",
    "#Calculate error and plot\n",
    "mse = mean_squared_error(ytest, y_nn)\n",
    "print(\"MSE Keras example: %.2f\" % mse)\n",
    "\n",
    "#compare labels\n",
    "plt.scatter(ytest, y_model)\n",
    "plt.xlabel(\"Truth\")\n",
    "plt.ylabel(\"Predicted\")\n",
    "plt.title(\"Boston Housing True vs Predicted prices\")"
   ]
  },
  {
   "cell_type": "code",
   "execution_count": 51,
   "metadata": {
    "id": "rX94HeJfDzEH"
   },
   "outputs": [],
   "source": [
    "#alternative approach with cross-validation\n",
    "#model object\n",
    "# estimator = KerasRegressor(build_fn=ex_model, epochs=100, batch_size=5, verbose=1)\n",
    "# \n",
    "# cvf = KFold(n_splits=2)\n",
    "# results = cross_val_score(estimator, X, y, cv=cvf)\n",
    "# print(\"Results: %.2f (+/-%.2f) MSE\" % (results.mean(), results.std()))\n",
    "\n",
    "# Results: -88.81 (46.90) MSE"
   ]
  },
  {
   "cell_type": "code",
   "execution_count": null,
   "metadata": {
    "id": "R_L1ExQ-K0zm"
   },
   "outputs": [],
   "source": []
  },
  {
   "cell_type": "markdown",
   "metadata": {
    "id": "PJm9pL6NK1LC"
   },
   "source": [
    "## Exercise\n",
    "\n",
    "Tune your own neural network to beat linear regression:\n",
    "\n",
    "`MSE Linear Regression: 24.29`\n",
    "\n",
    "What should I change? \n",
    "- train time: What is a good *ne* (number of train loops/epochs)? \n",
    "- Make the network deeper/wider\n",
    "  - tune # of layers/neurons in the model. "
   ]
  },
  {
   "cell_type": "markdown",
   "metadata": {
    "id": "90-r3iT5MCb8"
   },
   "source": [
    "### Larger model example\n",
    "\n",
    "#### How to create a deeper model?\n",
    "Add another layer to your model to make it more flexible <br>\n",
    "\n",
    "#### How to create wider models?\n",
    "increase 13 to 30.\n",
    "\n"
   ]
  },
  {
   "cell_type": "markdown",
   "metadata": {
    "id": "pHWmUXYpusnP"
   },
   "source": [
    "**Con:** The larger the model, the more coeff you have to train. This requires:\n",
    "- more data \n",
    "- more training time\n",
    "If you don't have enough data, your model will *overfit* and won't be able to generalize.\n"
   ]
  },
  {
   "cell_type": "code",
   "execution_count": 60,
   "metadata": {
    "colab": {
     "base_uri": "https://localhost:8080/",
     "height": 677
    },
    "id": "OOfoEZu-Dp0h",
    "outputId": "79a3e734-190e-4464-d1dc-481a3a552579",
    "scrolled": true
   },
   "outputs": [
    {
     "ename": "ValueError",
     "evalue": "Input 0 is incompatible with layer conv2d_4: expected ndim=4, found ndim=2",
     "output_type": "error",
     "traceback": [
      "\u001b[0;31m---------------------------------------------------------------------------\u001b[0m",
      "\u001b[0;31mValueError\u001b[0m                                Traceback (most recent call last)",
      "\u001b[0;32m<ipython-input-60-7aa406365c75>\u001b[0m in \u001b[0;36m<module>\u001b[0;34m\u001b[0m\n\u001b[1;32m     20\u001b[0m \u001b[0;34m\u001b[0m\u001b[0m\n\u001b[1;32m     21\u001b[0m \u001b[0;31m#Train\u001b[0m\u001b[0;34m\u001b[0m\u001b[0;34m\u001b[0m\u001b[0;34m\u001b[0m\u001b[0m\n\u001b[0;32m---> 22\u001b[0;31m \u001b[0mmodel\u001b[0m \u001b[0;34m=\u001b[0m \u001b[0mmy_model\u001b[0m\u001b[0;34m(\u001b[0m\u001b[0;34m)\u001b[0m\u001b[0;34m\u001b[0m\u001b[0;34m\u001b[0m\u001b[0m\n\u001b[0m\u001b[1;32m     23\u001b[0m \u001b[0mmodel\u001b[0m\u001b[0;34m.\u001b[0m\u001b[0mfit\u001b[0m\u001b[0;34m(\u001b[0m\u001b[0mXtrain\u001b[0m\u001b[0;34m,\u001b[0m \u001b[0mytrain\u001b[0m\u001b[0;34m,\u001b[0m \u001b[0mepochs\u001b[0m\u001b[0;34m=\u001b[0m\u001b[0mne\u001b[0m\u001b[0;34m,\u001b[0m \u001b[0mbatch_size\u001b[0m\u001b[0;34m=\u001b[0m\u001b[0;36m1\u001b[0m\u001b[0;34m,\u001b[0m \u001b[0mverbose\u001b[0m\u001b[0;34m=\u001b[0m\u001b[0;36m1\u001b[0m\u001b[0;34m)\u001b[0m\u001b[0;34m\u001b[0m\u001b[0;34m\u001b[0m\u001b[0m\n\u001b[1;32m     24\u001b[0m \u001b[0;34m\u001b[0m\u001b[0m\n",
      "\u001b[0;32m<ipython-input-60-7aa406365c75>\u001b[0m in \u001b[0;36mmy_model\u001b[0;34m()\u001b[0m\n\u001b[1;32m      3\u001b[0m         \u001b[0;31m# Add layers in given order\u001b[0m\u001b[0;34m\u001b[0m\u001b[0;34m\u001b[0m\u001b[0;34m\u001b[0m\u001b[0m\n\u001b[1;32m      4\u001b[0m   \u001b[0mmodel\u001b[0m \u001b[0;34m=\u001b[0m \u001b[0mmodels\u001b[0m\u001b[0;34m.\u001b[0m\u001b[0mSequential\u001b[0m\u001b[0;34m(\u001b[0m\u001b[0;34m)\u001b[0m\u001b[0;34m\u001b[0m\u001b[0;34m\u001b[0m\u001b[0m\n\u001b[0;32m----> 5\u001b[0;31m   \u001b[0mmodel\u001b[0m\u001b[0;34m.\u001b[0m\u001b[0madd\u001b[0m\u001b[0;34m(\u001b[0m\u001b[0mlayers\u001b[0m\u001b[0;34m.\u001b[0m\u001b[0mConv2D\u001b[0m\u001b[0;34m(\u001b[0m\u001b[0;36m32\u001b[0m\u001b[0;34m,\u001b[0m \u001b[0mactivation\u001b[0m\u001b[0;34m=\u001b[0m\u001b[0;34m'relu'\u001b[0m\u001b[0;34m,\u001b[0m \u001b[0minput_shape\u001b[0m\u001b[0;34m=\u001b[0m\u001b[0;34m(\u001b[0m\u001b[0mXtrain\u001b[0m\u001b[0;34m.\u001b[0m\u001b[0mshape\u001b[0m\u001b[0;34m[\u001b[0m\u001b[0;36m1\u001b[0m\u001b[0;34m]\u001b[0m\u001b[0;34m,\u001b[0m\u001b[0;34m)\u001b[0m\u001b[0;34m,\u001b[0m \u001b[0mkernel_size\u001b[0m\u001b[0;34m=\u001b[0m\u001b[0;36m3\u001b[0m\u001b[0;34m)\u001b[0m\u001b[0;34m)\u001b[0m\u001b[0;34m\u001b[0m\u001b[0;34m\u001b[0m\u001b[0m\n\u001b[0m\u001b[1;32m      6\u001b[0m   \u001b[0mmodel\u001b[0m\u001b[0;34m.\u001b[0m\u001b[0madd\u001b[0m\u001b[0;34m(\u001b[0m\u001b[0mlayers\u001b[0m\u001b[0;34m.\u001b[0m\u001b[0mMaxPooling2D\u001b[0m\u001b[0;34m(\u001b[0m\u001b[0;34m(\u001b[0m\u001b[0;36m2\u001b[0m\u001b[0;34m,\u001b[0m \u001b[0;36m2\u001b[0m\u001b[0;34m)\u001b[0m\u001b[0;34m)\u001b[0m\u001b[0;34m)\u001b[0m\u001b[0;34m\u001b[0m\u001b[0;34m\u001b[0m\u001b[0m\n\u001b[1;32m      7\u001b[0m   \u001b[0mmodel\u001b[0m\u001b[0;34m.\u001b[0m\u001b[0madd\u001b[0m\u001b[0;34m(\u001b[0m\u001b[0mlayers\u001b[0m\u001b[0;34m.\u001b[0m\u001b[0mConv2D\u001b[0m\u001b[0;34m(\u001b[0m\u001b[0;36m64\u001b[0m\u001b[0;34m,\u001b[0m \u001b[0;34m(\u001b[0m\u001b[0;36m5\u001b[0m\u001b[0;34m,\u001b[0m \u001b[0;36m5\u001b[0m\u001b[0;34m)\u001b[0m\u001b[0;34m,\u001b[0m \u001b[0mactivation\u001b[0m\u001b[0;34m=\u001b[0m\u001b[0;34m'relu'\u001b[0m\u001b[0;34m)\u001b[0m\u001b[0;34m)\u001b[0m\u001b[0;34m\u001b[0m\u001b[0;34m\u001b[0m\u001b[0m\n",
      "\u001b[0;32m/opt/conda/lib/python3.6/site-packages/keras/engine/sequential.py\u001b[0m in \u001b[0;36madd\u001b[0;34m(self, layer)\u001b[0m\n\u001b[1;32m    164\u001b[0m                     \u001b[0;31m# and create the node connecting the current layer\u001b[0m\u001b[0;34m\u001b[0m\u001b[0;34m\u001b[0m\u001b[0;34m\u001b[0m\u001b[0m\n\u001b[1;32m    165\u001b[0m                     \u001b[0;31m# to the input layer we just created.\u001b[0m\u001b[0;34m\u001b[0m\u001b[0;34m\u001b[0m\u001b[0;34m\u001b[0m\u001b[0m\n\u001b[0;32m--> 166\u001b[0;31m                     \u001b[0mlayer\u001b[0m\u001b[0;34m(\u001b[0m\u001b[0mx\u001b[0m\u001b[0;34m)\u001b[0m\u001b[0;34m\u001b[0m\u001b[0;34m\u001b[0m\u001b[0m\n\u001b[0m\u001b[1;32m    167\u001b[0m                     \u001b[0mset_inputs\u001b[0m \u001b[0;34m=\u001b[0m \u001b[0;32mTrue\u001b[0m\u001b[0;34m\u001b[0m\u001b[0;34m\u001b[0m\u001b[0m\n\u001b[1;32m    168\u001b[0m             \u001b[0;32melse\u001b[0m\u001b[0;34m:\u001b[0m\u001b[0;34m\u001b[0m\u001b[0;34m\u001b[0m\u001b[0m\n",
      "\u001b[0;32m/opt/conda/lib/python3.6/site-packages/keras/backend/tensorflow_backend.py\u001b[0m in \u001b[0;36msymbolic_fn_wrapper\u001b[0;34m(*args, **kwargs)\u001b[0m\n\u001b[1;32m     73\u001b[0m         \u001b[0;32mif\u001b[0m \u001b[0m_SYMBOLIC_SCOPE\u001b[0m\u001b[0;34m.\u001b[0m\u001b[0mvalue\u001b[0m\u001b[0;34m:\u001b[0m\u001b[0;34m\u001b[0m\u001b[0;34m\u001b[0m\u001b[0m\n\u001b[1;32m     74\u001b[0m             \u001b[0;32mwith\u001b[0m \u001b[0mget_graph\u001b[0m\u001b[0;34m(\u001b[0m\u001b[0;34m)\u001b[0m\u001b[0;34m.\u001b[0m\u001b[0mas_default\u001b[0m\u001b[0;34m(\u001b[0m\u001b[0;34m)\u001b[0m\u001b[0;34m:\u001b[0m\u001b[0;34m\u001b[0m\u001b[0;34m\u001b[0m\u001b[0m\n\u001b[0;32m---> 75\u001b[0;31m                 \u001b[0;32mreturn\u001b[0m \u001b[0mfunc\u001b[0m\u001b[0;34m(\u001b[0m\u001b[0;34m*\u001b[0m\u001b[0margs\u001b[0m\u001b[0;34m,\u001b[0m \u001b[0;34m**\u001b[0m\u001b[0mkwargs\u001b[0m\u001b[0;34m)\u001b[0m\u001b[0;34m\u001b[0m\u001b[0;34m\u001b[0m\u001b[0m\n\u001b[0m\u001b[1;32m     76\u001b[0m         \u001b[0;32melse\u001b[0m\u001b[0;34m:\u001b[0m\u001b[0;34m\u001b[0m\u001b[0;34m\u001b[0m\u001b[0m\n\u001b[1;32m     77\u001b[0m             \u001b[0;32mreturn\u001b[0m \u001b[0mfunc\u001b[0m\u001b[0;34m(\u001b[0m\u001b[0;34m*\u001b[0m\u001b[0margs\u001b[0m\u001b[0;34m,\u001b[0m \u001b[0;34m**\u001b[0m\u001b[0mkwargs\u001b[0m\u001b[0;34m)\u001b[0m\u001b[0;34m\u001b[0m\u001b[0;34m\u001b[0m\u001b[0m\n",
      "\u001b[0;32m/opt/conda/lib/python3.6/site-packages/keras/engine/base_layer.py\u001b[0m in \u001b[0;36m__call__\u001b[0;34m(self, inputs, **kwargs)\u001b[0m\n\u001b[1;32m    444\u001b[0m                 \u001b[0;31m# Raise exceptions in case the input is not compatible\u001b[0m\u001b[0;34m\u001b[0m\u001b[0;34m\u001b[0m\u001b[0;34m\u001b[0m\u001b[0m\n\u001b[1;32m    445\u001b[0m                 \u001b[0;31m# with the input_spec specified in the layer constructor.\u001b[0m\u001b[0;34m\u001b[0m\u001b[0;34m\u001b[0m\u001b[0;34m\u001b[0m\u001b[0m\n\u001b[0;32m--> 446\u001b[0;31m                 \u001b[0mself\u001b[0m\u001b[0;34m.\u001b[0m\u001b[0massert_input_compatibility\u001b[0m\u001b[0;34m(\u001b[0m\u001b[0minputs\u001b[0m\u001b[0;34m)\u001b[0m\u001b[0;34m\u001b[0m\u001b[0;34m\u001b[0m\u001b[0m\n\u001b[0m\u001b[1;32m    447\u001b[0m \u001b[0;34m\u001b[0m\u001b[0m\n\u001b[1;32m    448\u001b[0m                 \u001b[0;31m# Collect input shapes to build layer.\u001b[0m\u001b[0;34m\u001b[0m\u001b[0;34m\u001b[0m\u001b[0;34m\u001b[0m\u001b[0m\n",
      "\u001b[0;32m/opt/conda/lib/python3.6/site-packages/keras/engine/base_layer.py\u001b[0m in \u001b[0;36massert_input_compatibility\u001b[0;34m(self, inputs)\u001b[0m\n\u001b[1;32m    340\u001b[0m                                      \u001b[0mself\u001b[0m\u001b[0;34m.\u001b[0m\u001b[0mname\u001b[0m \u001b[0;34m+\u001b[0m \u001b[0;34m': expected ndim='\u001b[0m \u001b[0;34m+\u001b[0m\u001b[0;34m\u001b[0m\u001b[0;34m\u001b[0m\u001b[0m\n\u001b[1;32m    341\u001b[0m                                      \u001b[0mstr\u001b[0m\u001b[0;34m(\u001b[0m\u001b[0mspec\u001b[0m\u001b[0;34m.\u001b[0m\u001b[0mndim\u001b[0m\u001b[0;34m)\u001b[0m \u001b[0;34m+\u001b[0m \u001b[0;34m', found ndim='\u001b[0m \u001b[0;34m+\u001b[0m\u001b[0;34m\u001b[0m\u001b[0;34m\u001b[0m\u001b[0m\n\u001b[0;32m--> 342\u001b[0;31m                                      str(K.ndim(x)))\n\u001b[0m\u001b[1;32m    343\u001b[0m             \u001b[0;32mif\u001b[0m \u001b[0mspec\u001b[0m\u001b[0;34m.\u001b[0m\u001b[0mmax_ndim\u001b[0m \u001b[0;32mis\u001b[0m \u001b[0;32mnot\u001b[0m \u001b[0;32mNone\u001b[0m\u001b[0;34m:\u001b[0m\u001b[0;34m\u001b[0m\u001b[0;34m\u001b[0m\u001b[0m\n\u001b[1;32m    344\u001b[0m                 \u001b[0mndim\u001b[0m \u001b[0;34m=\u001b[0m \u001b[0mK\u001b[0m\u001b[0;34m.\u001b[0m\u001b[0mndim\u001b[0m\u001b[0;34m(\u001b[0m\u001b[0mx\u001b[0m\u001b[0;34m)\u001b[0m\u001b[0;34m\u001b[0m\u001b[0;34m\u001b[0m\u001b[0m\n",
      "\u001b[0;31mValueError\u001b[0m: Input 0 is incompatible with layer conv2d_4: expected ndim=4, found ndim=2"
     ]
    }
   ],
   "source": [
    "\n",
    "def my_model():\n",
    "\t# Add layers in given order  \n",
    "  model = Sequential()\n",
    "  model.add(Dense(32, input_shape=(Xtrain.shape[1],), activation='relu'))\n",
    "  model.add(Dense(16, activation='relu'))\n",
    "  model.add(Dense(1))\n",
    "\t# Compile model\n",
    "  model.compile(loss='mean_squared_error', optimizer='adam', metrics=['mae'])\n",
    "  return model\n",
    "\n",
    "ne = 10 #number of train loops\n",
    "\n",
    "#Train\n",
    "model = my_model()\n",
    "model.fit(Xtrain, ytrain, epochs=ne, batch_size=1, verbose=1)\n",
    "\n",
    "#Test\n",
    "#see performance on test data using trained model\n",
    "y_nn = model.predict(Xtest)\n",
    "#Calculate error and plot\n",
    "mse = mean_squared_error(ytest, y_nn)\n",
    "print(\"Test: MSE my network: %.2f\" % mse)\n",
    "\n",
    "#compare labels\n",
    "plt.scatter(ytest, y_model)\n",
    "plt.xlabel(\"Truth\")\n",
    "plt.ylabel(\"Predicted\")\n",
    "plt.title(\"Boston Housing True vs Predicted prices\")"
   ]
  },
  {
   "cell_type": "markdown",
   "metadata": {
    "id": "aEmpZctXQHIL"
   },
   "source": [
    "### What did we learn?"
   ]
  },
  {
   "cell_type": "code",
   "execution_count": 19,
   "metadata": {
    "colab": {
     "base_uri": "https://localhost:8080/",
     "height": 625
    },
    "id": "zrW6Zb3CLZv2",
    "outputId": "40f08b90-9af2-41ad-dea8-85939b988c51"
   },
   "outputs": [
    {
     "name": "stdout",
     "output_type": "stream",
     "text": [
      "Weights size: \n",
      " (32, 16)\n",
      "Weights: \n",
      " [[-0.24464992 -0.01455279  0.3645268  -0.31724238 -0.03500197  0.33703807\n",
      "  -0.20497718  0.45094746  0.45387447  0.294976    0.2509227   0.10620466\n",
      "   0.24869469  0.41054648  0.36896023  0.381716  ]\n",
      " [ 0.25178066 -0.00961174  0.28979626  0.11501921 -0.06258793  0.54793304\n",
      "   0.10211495  0.28175333  0.25410175 -0.06079455  0.21536128  0.19837707\n",
      "  -0.19587031 -0.0083468   0.30687225 -0.05739355]\n",
      " [ 0.2564779  -0.31990275  0.31553194  0.01421601  0.06414808  0.14736192\n",
      "   0.05017451  0.3520996   0.29659805  0.42534143  0.02840512  0.3709568\n",
      "   0.39612365  0.1251103  -0.15023455  0.33117118]\n",
      " [ 0.12270144  0.08556367 -0.12620376  0.17272429  0.28032658  0.2066213\n",
      "   0.10957047  0.24120888 -0.04481984 -0.05406637 -0.07414671  0.14249595\n",
      "  -0.0917671   0.1853638   0.14937884  0.01581087]\n",
      " [ 0.2978304  -0.28834513  0.08216019 -0.459939    0.24013853 -0.29036185\n",
      "  -0.16470253 -0.20650628 -0.30082592  0.3031941  -0.19432095 -0.1744619\n",
      "   0.18125641 -0.34416512 -0.2702353  -0.08607   ]\n",
      " [-0.3368673  -0.01806949  0.3677695  -0.17855771 -0.30032042  0.35465488\n",
      "  -0.28996336  0.13100965  0.17785782 -0.15884928  0.40081197 -0.06080259\n",
      "  -0.07964504  0.07883909 -0.11149801 -0.08447529]\n",
      " [ 0.07939613 -0.13672458  0.3046566   0.23406275 -0.33210695  0.01850459\n",
      "   0.10934624  0.4401266   0.38576362  0.22290118  0.3054324   0.26271757\n",
      "  -0.0766586   0.24554995 -0.13803916  0.2647969 ]\n",
      " [-0.01974746 -0.00897052  0.08419872 -0.21789514  0.25123426  0.14332321\n",
      "   0.43396017 -0.06702038 -0.29357916  0.06639728 -0.10423186 -0.33161935\n",
      "  -0.07869118 -0.37153643 -0.21357837 -0.18251911]\n",
      " [ 0.268051    0.24554485  0.27983966  0.09765674 -0.4246649  -0.14771673\n",
      "  -0.06372929  0.39587232  0.4244421   0.5134402   0.37448803  0.061182\n",
      "  -0.20826359  0.23689412  0.26348084  0.4321995 ]\n",
      " [ 0.10340726  0.15357317  0.372952   -0.12648535 -0.17623857  0.15580669\n",
      "  -0.25486934  0.5781033   0.18278003  0.15200235  0.65396845  0.549468\n",
      "  -0.11922967  0.05021849  0.500782    0.4618345 ]\n",
      " [-0.17158121 -0.34743983  0.49389207 -0.24697182  0.17605421  0.5056716\n",
      "  -0.14630574  0.06397595  0.0133305   0.23857273  0.5929273   0.41842684\n",
      "   0.16061163  0.42405057  0.41628373  0.12870818]\n",
      " [-0.2329487   0.30518526  0.3870117  -0.4225594   0.13968308 -0.20187938\n",
      "   0.19613247  0.4287304  -0.17682502  0.3061573   0.23843773 -0.01697401\n",
      "  -0.13319288 -0.06655297  0.40184215  0.4645957 ]\n",
      " [-0.07092491  0.24293795  0.3237545   0.23393475 -0.34114313  0.42701748\n",
      "   0.42244744 -0.020487    0.4133969   0.03116492  0.5039834  -0.05257596\n",
      "   0.21454062 -0.18524244  0.29874367 -0.02563673]\n",
      " [ 0.32541627  0.22882335  0.47868425  0.15534474  0.2720325   0.23059705\n",
      "   0.0213652   0.03613287 -0.1394909   0.49670208  0.4910172   0.0784329\n",
      "  -0.12450617 -0.1538908   0.30451256 -0.07639698]\n",
      " [-0.29673758  0.01011057 -0.37865365  0.2563109   0.27063602 -0.38654977\n",
      "   0.41732553  0.14499056 -0.45364094 -0.0140654   0.00336275 -0.3490725\n",
      "  -0.2000319  -0.53647596 -0.28099066 -0.02958957]\n",
      " [ 0.32103643  0.19229113  0.48411337 -0.09071245  0.38596568 -0.0284694\n",
      "  -0.06243464 -0.10643177  0.23274742  0.4285214   0.5194585  -0.12058541\n",
      "   0.13568506  0.15749551  0.00918036  0.4125751 ]\n",
      " [ 0.00113853  0.11808582  0.01172245 -0.26413214  0.04364264  0.10831195\n",
      "  -0.36054164  0.2005895   0.20967372  0.43660194  0.5484964   0.18352343\n",
      "   0.27059954  0.28956842  0.18691747  0.5423534 ]\n",
      " [ 0.21268417 -0.34175074  0.42497924 -0.3793918  -0.01520821  0.12309289\n",
      "  -0.35367936 -0.06808212 -0.10939857  0.3942874   0.18890797  0.29651174\n",
      "  -0.22062881 -0.21907856  0.18552406 -0.09241387]\n",
      " [-0.3491146  -0.21015762  0.51841056  0.06698387  0.18913144  0.15354545\n",
      "   0.23154838  0.19220683  0.4219799   0.01983806  0.07390843 -0.05710147\n",
      "  -0.34984574  0.05356586  0.46593547  0.34717283]\n",
      " [ 0.12862699  0.2090458   0.5295145   0.02641533 -0.3356776   0.3037028\n",
      "   0.3038073   0.25651333  0.5044996   0.40532625 -0.06114905 -0.06755721\n",
      "  -0.27944574  0.17319655  0.50404406  0.5160004 ]\n",
      " [-0.23790514 -0.12770228 -0.25524816  0.24047728 -0.2636784   0.15054716\n",
      "  -0.0403229  -0.361402   -0.2081254   0.19503912  0.26080015 -0.13671777\n",
      "   0.2931226  -0.5215559  -0.15678218 -0.18377367]\n",
      " [-0.04615209 -0.21264832  0.36627826 -0.45823905 -0.20473178  0.4064096\n",
      "  -0.10114505  0.5681092   0.18261904  0.48491246  0.3973601   0.40955865\n",
      "   0.14513639  0.3363919   0.52626085  0.45155707]\n",
      " [-0.20021364  0.2180484   0.07681625  0.00210218 -0.25125948  0.5207405\n",
      "   0.11830269  0.1482351   0.10677675  0.3805195   0.07070015 -0.03206872\n",
      "  -0.12344667 -0.19741179 -0.15072732  0.28118265]\n",
      " [-0.10580368  0.00121658 -0.2969593  -0.09009823 -0.08376677 -0.29155168\n",
      "   0.27092415  0.13224636  0.21650182  0.26508904 -0.2556777   0.00380467\n",
      "  -0.28417498  0.33561027 -0.16419925 -0.05163253]\n",
      " [ 0.09606428  0.07659813  0.45436937  0.20563722  0.06851006  0.4581206\n",
      "  -0.37178686  0.3135266   0.35726994  0.4207868   0.5042721   0.43995264\n",
      "   0.24080239 -0.1198467   0.17709593 -0.04884147]\n",
      " [ 0.03527682 -0.3215236   0.49104014 -0.25290698 -0.40954056  0.34169456\n",
      "  -0.20186453  0.08208308  0.14188468  0.41898662  0.4664032   0.45025435\n",
      "  -0.2896199   0.25691995  0.04240778  0.04585008]\n",
      " [-0.3554776   0.13586295  0.18021514 -0.4261991  -0.11324327  0.4774216\n",
      "   0.32266963  0.23530166  0.18945915  0.44223258  0.2729183   0.02189741\n",
      "   0.20255817  0.2344438   0.35575387 -0.03111863]\n",
      " [ 0.21338707  0.15972988  0.22027618 -0.46178213 -0.01389163 -0.01686686\n",
      "   0.129409    0.14547524 -0.28946614 -0.07238312 -0.1401591  -0.3208217\n",
      "   0.23674618 -0.12825172 -0.3128653  -0.2881876 ]\n",
      " [ 0.05938505 -0.07191958  0.42478964  0.0300302   0.05973702 -0.03886201\n",
      "  -0.32109326  0.48825324  0.2363802   0.05204539  0.44542181  0.14572743\n",
      "  -0.21923195  0.34472677  0.4442202   0.20247866]\n",
      " [-0.1202232  -0.43641448  0.18118423  0.16614588 -0.18379006  0.46925044\n",
      "  -0.47828946  0.30491835  0.02256622  0.06982172  0.21102256  0.19959198\n",
      "  -0.05543162 -0.08250547 -0.08971134  0.01850949]\n",
      " [-0.14419386 -0.29389584  0.55798966  0.19478297 -0.2349861  -0.0951587\n",
      "   0.0996654   0.48256677  0.08388033  0.37790295  0.04388058  0.19295913\n",
      "  -0.35343626 -0.02684815  0.5233421   0.2670792 ]\n",
      " [-0.15240474 -0.41414765  0.42978776 -0.2831343   0.15773572 -0.06578448\n",
      "  -0.48780632  0.18804832  0.35257715  0.23647237 -0.07829944  0.14560317\n",
      "  -0.39389035  0.06218902  0.14398263  0.2386508 ]] \n",
      " Bias: \n",
      " [-0.11930202 -0.03765625  0.30620518 -0.08401529 -0.0772154   0.3117234\n",
      " -0.01603458  0.33803013  0.29689446  0.35209307  0.3771869   0.3029177\n",
      " -0.0082783   0.2229118   0.33649182  0.30770057]\n"
     ]
    }
   ],
   "source": [
    "weights, bias = model.layers[1].get_weights()\n",
    "\n",
    "print('Weights size: \\n', weights.shape)\n",
    "      \n",
    "print('Weights: \\n', weights,'\\n Bias: \\n' ,bias)"
   ]
  },
  {
   "cell_type": "code",
   "execution_count": null,
   "metadata": {},
   "outputs": [],
   "source": []
  },
  {
   "cell_type": "code",
   "execution_count": null,
   "metadata": {},
   "outputs": [],
   "source": []
  },
  {
   "cell_type": "code",
   "execution_count": null,
   "metadata": {},
   "outputs": [],
   "source": []
  },
  {
   "cell_type": "code",
   "execution_count": null,
   "metadata": {},
   "outputs": [],
   "source": []
  },
  {
   "cell_type": "code",
   "execution_count": null,
   "metadata": {},
   "outputs": [],
   "source": []
  },
  {
   "cell_type": "code",
   "execution_count": null,
   "metadata": {},
   "outputs": [],
   "source": []
  },
  {
   "cell_type": "code",
   "execution_count": null,
   "metadata": {},
   "outputs": [],
   "source": []
  },
  {
   "cell_type": "code",
   "execution_count": null,
   "metadata": {},
   "outputs": [],
   "source": []
  },
  {
   "cell_type": "code",
   "execution_count": null,
   "metadata": {},
   "outputs": [],
   "source": []
  },
  {
   "cell_type": "code",
   "execution_count": null,
   "metadata": {},
   "outputs": [],
   "source": []
  },
  {
   "cell_type": "code",
   "execution_count": null,
   "metadata": {},
   "outputs": [],
   "source": []
  },
  {
   "cell_type": "code",
   "execution_count": null,
   "metadata": {},
   "outputs": [],
   "source": []
  }
 ],
 "metadata": {
  "accelerator": "TPU",
  "colab": {
   "name": "Boston housing dense NN using Keras pipeline.ipynb",
   "provenance": []
  },
  "kernelspec": {
   "display_name": "Python 3",
   "language": "python",
   "name": "python3"
  },
  "language_info": {
   "codemirror_mode": {
    "name": "ipython",
    "version": 3
   },
   "file_extension": ".py",
   "mimetype": "text/x-python",
   "name": "python",
   "nbconvert_exporter": "python",
   "pygments_lexer": "ipython3",
   "version": "3.6.10"
  }
 },
 "nbformat": 4,
 "nbformat_minor": 1
}
